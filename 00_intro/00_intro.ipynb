{
 "cells": [
  {
   "cell_type": "markdown",
   "metadata": {
    "slideshow": {
     "slide_type": "slide"
    }
   },
   "source": [
    "# Introduction\n",
    "\n",
    "[Table of contents](../toc.ipynb)\n",
    "\n",
    "## Motivation for this lecture series\n",
    "\n",
    "* Basically, almost all jobs in engineering require (or will require) programming skills due to [digital transformation](https://en.wikipedia.org/wiki/Digital_transformation).\n",
    "* Digital transformation requires skill in digital products (software), technologies (software and system engineering), safety and security, data analysis, and the like."
   ]
  },
  {
   "cell_type": "markdown",
   "metadata": {
    "slideshow": {
     "slide_type": "subslide"
    }
   },
   "source": [
    "### Improve your skills\n",
    "\n",
    "<img src=\"../_static/education.jpg\" alt=\"Education\" width=\"350\" align=\"right\">\n",
    "\n",
    "If **you** want to be prepared for a digital job, e.g. if you want to apply for a job in autonomous driving, your chances are much are higher if you have expertise in\n",
    "\n",
    "  * C, C++, Python\n",
    "  * Clean Code, Version control (Git), Continuous integration (Jenkins, Travis)\n",
    "  * Software quality assurance (software testing)\n",
    "  * Distributed software development (Inner Source, Open Source)\n",
    "  * Cloud computing (Azure)\n",
    "  * IT safety and security\n",
    "  * Image Processing\n",
    "  * Machine learning\n",
    "  * *Linear Algebra*\n",
    "  * *Statistics*\n",
    "  * *Physics*\n",
    "  * *Vehicle Science*"
   ]
  },
  {
   "cell_type": "markdown",
   "metadata": {
    "slideshow": {
     "slide_type": "subslide"
    }
   },
   "source": [
    "### But also check if your prospective employer is prepared\n",
    "\n",
    "<img src=\"../_static/objects.jpg\" alt=\"Objects\" width=\"350\" align=\"right\">\n",
    "\n",
    "However, you should also **test the prospective employer** with famous [Joel Test](https://www.joelonsoftware.com/2000/08/09/the-joel-test-12-steps-to-better-code/).\n",
    "[Joel Spolsky](https://www.joelonsoftware.com/about-me/) was for instance CEO of stackoverflow until 2019.\n",
    "This test is a 20 years old test to determine how well software teams work."
   ]
  },
  {
   "cell_type": "markdown",
   "metadata": {
    "slideshow": {
     "slide_type": "subslide"
    }
   },
   "source": [
    "The test is simple, just ask the company:\n",
    "\n",
    "\n",
    "1. Do you use source control?\n",
    "2. Can you make a build in one step?\n",
    "3. Do you make daily builds?\n",
    "4. Do you have a bug database?\n",
    "5. Do you fix bugs before writing new code?\n",
    "6. Do you have an up-to-date schedule?\n",
    "7. Do you have a spec?\n",
    "8. Do programmers have quiet working conditions?\n",
    "9. Do you use the best tools money can buy?\n",
    "10. Do you have testers?\n",
    "11. Do new candidates write code during their interview?\n",
    "12. Do you do hallway usability testing?\n",
    "\n",
    "\"A score of 12 is perfect, 11 is tolerable, but 10 or lower and you’ve got serious problems.\" [[Spolsky2000]](./references.bib)"
   ]
  },
  {
   "cell_type": "markdown",
   "metadata": {
    "slideshow": {
     "slide_type": "slide"
    }
   },
   "source": [
    "## Outline of this lecture\n",
    "\n",
    "In this lesson you will learn \n",
    "* Why it is worth to learn Python \n",
    "* How to create and manage Python environments\n",
    "* Some Python syntax snippets.\n",
    "\n",
    "<img src=\"../_static/info.png\" alt=\"Info\" width=\"75\" align=\"left\">\n",
    "\n",
    "You can find the course material in notebook style on [github.com](https://github.com/StephanRhode/py-algorithms-4-automotive-engineering)"
   ]
  },
  {
   "cell_type": "markdown",
   "metadata": {
    "slideshow": {
     "slide_type": "slide"
    }
   },
   "source": [
    "<img src=\"https://www.python.org/static/community_logos/python-logo-master-v3-TM.png\" alt=\"Python\" width=\"350\">\n",
    "\n",
    "## Why Python?\n",
    "\n",
    "* Python is one of the most popular programming languages.\n",
    "* Python was designed as teaching and scripting language in 1990s by Guido van Rossum [wikipedia](https://en.wikipedia.org/wiki/Python_(programming_language)), hence it is easy to read and easy to learn."
   ]
  },
  {
   "cell_type": "markdown",
   "metadata": {
    "slideshow": {
     "slide_type": "subslide"
    }
   },
   "source": [
    "* Python becomes more and more popular due to lack of \"real\" programmers in industry.\n",
    "\n",
    "Here is the [TIOBE index](https://www.tiobe.com/tiobe-index/) from December 2019 of popular programming languages. The index is based on number of skilled engineers world-wide, courses and third party vendors.\n",
    "\n",
    "Programming Language | Ratings | Change\n",
    "-------------------- | ------- | ------\n",
    "Java | 17.253% | +1.32%\n",
    "C | 16.086% | +1.80%\n",
    "Python | 10.308% | +1.93%\n",
    "C++ | 6.196% | -1.37%\n",
    "C# | 4.801% | +1.35%\n",
    "Visual Basic .NET | 4.743% | -2.38%\n",
    "JavaScript | 2.090% | -0.97%\n",
    "PHP | 2.048% | -0.39%\n",
    "SQL | 1.843% | -0.34%\n",
    "wift | 1.490% | +0.27%\n",
    "Ruby | 1.314% | +0.21%\n",
    "Delphi/Object Pascal | 1.280% | -0.12%\n",
    "Objective-C | 1.204% | -0.27%\n",
    "Assembly language | 1.067% | -0.30%\n",
    "Go | 0.995% | -0.19%\n",
    "R | 0.995% | -0.12%\n",
    "MATLAB | 0.986% | -0.30%"
   ]
  },
  {
   "cell_type": "markdown",
   "metadata": {
    "slideshow": {
     "slide_type": "subslide"
    }
   },
   "source": [
    "* Python is easy to learn, to read and to maintain.\n",
    "* Python is interpreted. No need to compile the program and you can interact with the Python interpreter which is great for pre-development.\n",
    "* Python supports scripting, functional programming and object orientated programming.\n",
    "* Python is portable to almost any computer platform."
   ]
  },
  {
   "cell_type": "markdown",
   "metadata": {
    "slideshow": {
     "slide_type": "subslide"
    }
   },
   "source": [
    "* Python lives from contributions of a large community and provides many great libraries.\n",
    "* Recent popular methods like deep learning, speech recognition and the like are usually programmed in Python.\n",
    "* If you want to process data on a computer, chances are very high that someone created a Python library for this.\n",
    "\n",
    "Numpy | Scipy | Matplotlib | Scikit-learn | IPython\n",
    "--- | --- | --- | --- | ---\n",
    "<img src=\"https://github.com/numpy/numpy/raw/master/doc/source/_static/numpy_logo.png\" alt=\"Numpy\" width=\"150\"> | <img src=\"https://github.com/scipy/scipy/raw/master/doc/source/_static/scipyshiny_small.png\" alt=\"Scipy\" width=\"150\"> | <img src=\"https://github.com/matplotlib/matplotlib/raw/master/doc/_static/logo2.png\" alt=\"Matplotlib\" width=\"150\"> | <img src=\"https://github.com/scikit-learn/scikit-learn/raw/master/doc/logos/scikit-learn-logo-small.png\" alt=\"Scikit-learn\" width=\"150\"> | <img src=\"https://github.com/jupyter/jupyter/raw/master/docs/source/_static/_images/ipy_logo.png\" alt=\"IPython\" width=\"150\"> "
   ]
  },
  {
   "cell_type": "markdown",
   "metadata": {
    "slideshow": {
     "slide_type": "subslide"
    }
   },
   "source": [
    "KUDOS to Jake VanderPlas who wrote the beautiful Python introduction *A Whirlwind Tour of Python* [[VanderPlas2016]](./references.bib), which is under CC0 license and hence I will re-use and build-on it in the latter."
   ]
  },
  {
   "cell_type": "markdown",
   "metadata": {
    "slideshow": {
     "slide_type": "subslide"
    }
   },
   "source": [
    "> * [NumPy](https://numpy.org/) provides efficient storage and computation for multi-dimensional data arrays.\n",
    "> * [SciPy](https://scipy.org/) contains a wide array of numerical tools such as numerical integration and interpolation.\n",
    "> * [Matplotlib](https://matplotlib.org/) provides a useful interface for creation of publication-quality plots and figures.\n",
    "> * [Scikit-Learn](https://scikit-learn.org/) provides a uniform toolkit for applying common machine learning algorithms to data.\n",
    "> * [Jupyter](https://jupyter.org/) provides an enhanced terminal and an interactive notebook environment that is useful for exploratory analysis, as well as creation of interactive, executable documents. For example, the manuscript for this report was composed entirely in Jupyter notebooks.\n",
    "\n",
    "> A Whirlwind Tour of Python by Jake VanderPlas (O’Reilly).\n",
    "> Copyright 2016 O’Reilly Media, Inc., 978-1-491-96465-1"
   ]
  },
  {
   "cell_type": "markdown",
   "metadata": {
    "slideshow": {
     "slide_type": "subslide"
    }
   },
   "source": [
    "* All of these packages are **open source!** and available on [github](https://github.com/).\n",
    "\n",
    "<img src=\"https://raw.githubusercontent.com/gilbarbara/logos/master/logos/github-octocat.svg?sanitize=true\" alt=\"Octocat\" width=\"150\">"
   ]
  },
  {
   "cell_type": "markdown",
   "metadata": {
    "slideshow": {
     "slide_type": "slide"
    }
   },
   "source": [
    "## The Zen of Python\n",
    "The philosophy of Python can be read with `import this` command. It is quite the counter part to Matlab's `why` :)"
   ]
  },
  {
   "cell_type": "code",
   "execution_count": 1,
   "metadata": {
    "slideshow": {
     "slide_type": "subslide"
    }
   },
   "outputs": [
    {
     "name": "stdout",
     "output_type": "stream",
     "text": [
      "The Zen of Python, by Tim Peters\n",
      "\n",
      "Beautiful is better than ugly.\n",
      "Explicit is better than implicit.\n",
      "Simple is better than complex.\n",
      "Complex is better than complicated.\n",
      "Flat is better than nested.\n",
      "Sparse is better than dense.\n",
      "Readability counts.\n",
      "Special cases aren't special enough to break the rules.\n",
      "Although practicality beats purity.\n",
      "Errors should never pass silently.\n",
      "Unless explicitly silenced.\n",
      "In the face of ambiguity, refuse the temptation to guess.\n",
      "There should be one-- and preferably only one --obvious way to do it.\n",
      "Although that way may not be obvious at first unless you're Dutch.\n",
      "Now is better than never.\n",
      "Although never is often better than *right* now.\n",
      "If the implementation is hard to explain, it's a bad idea.\n",
      "If the implementation is easy to explain, it may be a good idea.\n",
      "Namespaces are one honking great idea -- let's do more of those!\n"
     ]
    }
   ],
   "source": [
    "import this"
   ]
  }
 ],
 "metadata": {
  "celltoolbar": "Slideshow",
  "kernelspec": {
   "display_name": "Python 3",
   "language": "python",
   "name": "python3"
  },
  "language_info": {
   "codemirror_mode": {
    "name": "ipython",
    "version": 3
   },
   "file_extension": ".py",
   "mimetype": "text/x-python",
   "name": "python",
   "nbconvert_exporter": "python",
   "pygments_lexer": "ipython3",
   "version": "3.5.2"
  }
 },
 "nbformat": 4,
 "nbformat_minor": 2
}
